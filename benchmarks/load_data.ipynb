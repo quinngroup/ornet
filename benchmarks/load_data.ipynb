{
 "cells": [
  {
   "cell_type": "markdown",
   "id": "compliant-dividend",
   "metadata": {},
   "source": [
    "## Benchmarks\n",
    "\n"
   ]
  },
  {
   "cell_type": "code",
   "execution_count": 147,
   "id": "young-internship",
   "metadata": {},
   "outputs": [],
   "source": [
    "import numpy as np\n",
    "import pandas as pd\n",
    "from matplotlib import pyplot as plt\n",
    "\n",
    "import torch\n",
    "from torch.utils.data import Dataset, DataLoader\n",
    "\n",
    "import os\n",
    "import math\n",
    "from tqdm import tqdm\n",
    "from ornet.cells_to_gray import vid_to_gray\n",
    "import shutil"
   ]
  },
  {
   "cell_type": "code",
   "execution_count": 148,
   "id": "accurate-affairs",
   "metadata": {},
   "outputs": [],
   "source": [
    "from ornet.pipeline import compute_gmm_intermediates, compute_distances"
   ]
  },
  {
   "cell_type": "code",
   "execution_count": 149,
   "id": "registered-journalist",
   "metadata": {},
   "outputs": [],
   "source": [
    "my_path = '/Users/ram/dev/quinn/ornet-data/ornet-outputs'"
   ]
  },
  {
   "cell_type": "code",
   "execution_count": null,
   "id": "marked-twist",
   "metadata": {},
   "outputs": [],
   "source": []
  },
  {
   "cell_type": "code",
   "execution_count": 150,
   "id": "regional-topic",
   "metadata": {},
   "outputs": [],
   "source": [
    "class_labels = ['control', 'llo', \"mdivi\"]\n",
    "label_dict = {'control':0, 'llo':1, \"mdivi\":2}"
   ]
  },
  {
   "cell_type": "code",
   "execution_count": 151,
   "id": "congressional-abortion",
   "metadata": {},
   "outputs": [],
   "source": [
    "class DistancesDataset(Dataset):\n",
    "    def __init__(self, path_to_folder):\n",
    "        self.graphs = []\n",
    "        self.labels= []\n",
    "        self.vid_names=[]\n",
    "        \n",
    "        for label in class_labels:\n",
    "            path = os.path.join(path_to_folder, label)\n",
    "            print(path)\n",
    "            files = os.listdir(path)\n",
    "            for file_name in files:\n",
    "                    if file_name.split('.')[-1] in ['npy']:\n",
    "#                         print(file_names)\n",
    "                        self.labels.append(label_dict[label])\n",
    "                        self.graphs.append(np.load(os.path.join(path, file_name)))\n",
    "                        self.vid_names.append(file_name.split('.')[0])\n",
    "        \n",
    "    def __len__(self):\n",
    "        return len(self.graphs)\n",
    "    \n",
    "    def __getitem__(self, idx):\n",
    "        label = self.labels[idx]\n",
    "        graph = self.graphs[idx]\n",
    "        return graph, label\n",
    "#         sample = {\"Graph\": graph, \"Class\": label}\n",
    "#         return sample"
   ]
  },
  {
   "cell_type": "code",
   "execution_count": 152,
   "id": "temporal-rebel",
   "metadata": {},
   "outputs": [
    {
     "name": "stdout",
     "output_type": "stream",
     "text": [
      "/Users/ram/dev/quinn/ornet-data/ornet-outputs/distances/control\n",
      "/Users/ram/dev/quinn/ornet-data/ornet-outputs/distances/llo\n",
      "/Users/ram/dev/quinn/ornet-data/ornet-outputs/distances/mdivi\n"
     ]
    }
   ],
   "source": [
    "path_to_distances = os.path.join(my_path, 'distances')\n",
    "graph_dataset = DistancesDataset(path_to_distances)"
   ]
  },
  {
   "cell_type": "code",
   "execution_count": 153,
   "id": "incomplete-prediction",
   "metadata": {},
   "outputs": [
    {
     "data": {
      "text/plain": [
       "(200, 27, 27)"
      ]
     },
     "execution_count": 153,
     "metadata": {},
     "output_type": "execute_result"
    }
   ],
   "source": [
    "g, l = next(iter(graph_dataset))\n",
    "g.shape"
   ]
  },
  {
   "cell_type": "code",
   "execution_count": 154,
   "id": "adjacent-poland",
   "metadata": {},
   "outputs": [],
   "source": [
    "class SinglesDataset(Dataset):\n",
    "    def __init__(self, path_to_folder, vid_names=None, frame_idx=0):\n",
    "        self.labels= []\n",
    "        self.vid_path = []\n",
    "        self.frame_idx= frame_idx\n",
    "        \n",
    "        print(path_to_folder)\n",
    "        \n",
    "        \n",
    "        # specify certain videos by their file name\n",
    "        if vid_names: # has items\n",
    "            name_constraint = lambda x: x.split('.')[0] in vid_names\n",
    "        else:\n",
    "            name_constraint = lambda x: 'normalized' in x\n",
    "     \n",
    "        for label in class_labels:\n",
    "            path = os.path.join(path_to_folder, label)\n",
    "            files = os.listdir(path)\n",
    "            for file_name in files:\n",
    "                    if  name_constraint(file_name):\n",
    "                        self.vid_path.append(os.path.join(path, file_name))\n",
    "                        self.labels.append(label_dict[label])\n",
    "\n",
    "    def __len__(self):\n",
    "        return len(self.labels)\n",
    "\n",
    "    \n",
    "    def __getitem__(self, idx):\n",
    "        # do we need to load the whole video to get the 2 frames\n",
    "        label = self.labels[idx]\n",
    "        vid = np.load(self.vid_path[idx])\n",
    "        path = self.vid_path[idx]\n",
    "        return vid[0], vid[-1], label, path # added file path cause I'm looking back over issues in data\n",
    "    \n",
    " #         return vid[self.frame_idx], label"
   ]
  },
  {
   "cell_type": "code",
   "execution_count": 184,
   "id": "catholic-exhaust",
   "metadata": {},
   "outputs": [
    {
     "name": "stdout",
     "output_type": "stream",
     "text": [
      "/Users/ram/dev/quinn/ornet-data/ornet-outputs/gray-frame-pairs\n",
      "149 samples\n"
     ]
    }
   ],
   "source": [
    "\"\"\"\n",
    "The gray-singles folder contains single cell video files in .npy format.\n",
    "The original videos contained multiple cell's, each was extracted into its own video.\n",
    "The pixel intensity has been normalized across vids, and converted to gray-scale.\n",
    "The 24 videos were sampled to yield like 100-200 frames, we don't care at this point because we will only look\n",
    "at the first and last frames of the video.\n",
    "\n",
    "We start off with 149 videos, but some are dropped due to errors as they move through the ornet pipeline.\n",
    "If you only want to examine the 114 input videos that successfuly make it through the pipeline, add \n",
    "a list of the succesful filenames, on this notebook you can do\n",
    "                `SinglesDataset(path_to_singles, graphs_dataset.vid_names)`\n",
    "\"\"\"\n",
    "\n",
    "path_to_singles = os.path.join(my_path, \"gray-frame-pairs\") # i swear it is grey not gray been i've brainwashed by the brits\n",
    "\n",
    "# path_to_singles = my_path + \"/singles\"\n",
    "# some of the videos did non succeed beyond the gmm, 114/149 originals I believe\n",
    "\n",
    "singles_data = SinglesDataset(path_to_singles) # all 149 normalized videos\n",
    "# singles_data = SinglesDataset(path_to_singles, vid_names=graphs_dataset.vid_names) # videos that make it to end of pipeline\n",
    "\n",
    "print(len(singles_data), \"samples\")\n",
    "\n",
    "\n",
    "# I don't remember if these should be two different datasets. if so change the return in getItem\n",
    "# first_frame_data = SinglesDataset(path_to_singles, frame_idx=0)\n",
    "# last_frame_data = SinglesDataset(path_to_singles, frame_idx=-1)\n",
    "\n"
   ]
  },
  {
   "cell_type": "code",
   "execution_count": 185,
   "id": "attempted-istanbul",
   "metadata": {},
   "outputs": [
    {
     "name": "stdout",
     "output_type": "stream",
     "text": [
      "From group control\n",
      "/Users/ram/dev/quinn/ornet-data/ornet-outputs/gray-frame-pairs/control/HeLa-DsRed2_10_13_normalized_1.npy\n"
     ]
    },
    {
     "data": {
      "image/png": "[encoded data removed]",
      "text/plain": [
       "<Figure size 576x576 with 2 Axes>"
      ]
     },
     "metadata": {
      "needs_background": "light"
     },
     "output_type": "display_data"
    }
   ],
   "source": [
    "figure = plt.figure(figsize=(8, 8))\n",
    "sample_idx = torch.randint(len(singles_data), size=(1,)).item()\n",
    "\n",
    "img1, img2, label, file = singles_data[sample_idx]\n",
    "#     img, label = training_data[sample_idx]\n",
    "\n",
    "print(\"From group\", class_labels[label])\n",
    "print(file)\n",
    "figure.add_subplot(1,2,1)\n",
    "plt.title(\"first frame\")\n",
    "# plt.axis(\"off\")\n",
    "plt.imshow(img1.squeeze(), cmap=\"gray\")\n",
    "\n",
    "figure.add_subplot(1,2,2)\n",
    "plt.title(\"last frame\")\n",
    "plt.imshow(img2.squeeze(), cmap=\"gray\")\n",
    "\n",
    "plt.show()"
   ]
  },
  {
   "cell_type": "code",
   "execution_count": null,
   "id": "specialized-sociology",
   "metadata": {},
   "outputs": [],
   "source": []
  },
  {
   "cell_type": "code",
   "execution_count": null,
   "id": "removed-southeast",
   "metadata": {},
   "outputs": [],
   "source": []
  },
  {
   "cell_type": "code",
   "execution_count": null,
   "id": "established-ideal",
   "metadata": {},
   "outputs": [],
   "source": []
  },
  {
   "cell_type": "code",
   "execution_count": null,
   "id": "nervous-observation",
   "metadata": {},
   "outputs": [],
   "source": []
  },
  {
   "cell_type": "markdown",
   "id": "engaged-anchor",
   "metadata": {},
   "source": [
    "### noticing some wacky data along the way"
   ]
  },
  {
   "cell_type": "code",
   "execution_count": 188,
   "id": "sealed-occurrence",
   "metadata": {},
   "outputs": [
    {
     "name": "stdout",
     "output_type": "stream",
     "text": [
      "From group LLO\n"
     ]
    },
    {
     "data": {
      "text/plain": [
       "<matplotlib.image.AxesImage at 0x7fba198e4550>"
      ]
     },
     "execution_count": 188,
     "metadata": {},
     "output_type": "execute_result"
    },
    {
     "data": {
      "image/png": "[encoded data removed]",
      "text/plain": [
       "<Figure size 576x576 with 2 Axes>"
      ]
     },
     "metadata": {
      "needs_background": "light"
     },
     "output_type": "display_data"
    }
   ],
   "source": [
    "# uh oh singles data is not singles data\n",
    "figure = plt.figure(figsize=(8, 8))\n",
    "sample = np.load(my_path + \"/gray-singles/llo/DsRed2-HeLa_11_2_LLO_normalized_9.npy\")\n",
    "\n",
    "print(\"From group LLO\")\n",
    "\n",
    "figure.add_subplot(1,2,1)\n",
    "plt.title(\"first frame\")\n",
    "plt.imshow(sample[0].squeeze(), cmap=\"gray\")\n",
    "figure.add_subplot(1,2,2)\n",
    "plt.title(\"last frame\")\n",
    "plt.imshow(sample[-1].squeeze(), cmap=\"gray\")"
   ]
  },
  {
   "cell_type": "code",
   "execution_count": 187,
   "id": "distributed-arabic",
   "metadata": {},
   "outputs": [
    {
     "name": "stdout",
     "output_type": "stream",
     "text": [
      "From group LLO\n"
     ]
    },
    {
     "data": {
      "image/png": "[encoded data removed]",
      "text/plain": [
       "<Figure size 576x576 with 2 Axes>"
      ]
     },
     "metadata": {
      "needs_background": "light"
     },
     "output_type": "display_data"
    },
    {
     "data": {
      "text/plain": [
       "False"
      ]
     },
     "execution_count": 187,
     "metadata": {},
     "output_type": "execute_result"
    }
   ],
   "source": [
    "# any data there?\n",
    "figure = plt.figure(figsize=(8, 8))\n",
    "sample = np.load(my_path + \"/gray-singles/llo/DsRed2-HeLa_11_2_LLO_normalized_5.npy\")\n",
    "\n",
    "print(\"From group LLO\")\n",
    "\n",
    "figure.add_subplot(1,2,1)\n",
    "plt.title(\"first frame\")\n",
    "plt.imshow(sample[0].squeeze(), cmap=\"gray\")\n",
    "figure.add_subplot(1,2,2)\n",
    "plt.title(\"last frame\")\n",
    "plt.imshow(sample[-1].squeeze(), cmap=\"gray\")\n",
    "plt.show()\n",
    "\n",
    "# nope just 0's\n",
    "np.any((sample[0] != 0.0))"
   ]
  },
  {
   "cell_type": "code",
   "execution_count": null,
   "id": "killing-creation",
   "metadata": {},
   "outputs": [],
   "source": []
  },
  {
   "cell_type": "code",
   "execution_count": null,
   "id": "undefined-circular",
   "metadata": {},
   "outputs": [],
   "source": []
  },
  {
   "cell_type": "code",
   "execution_count": null,
   "id": "presidential-fishing",
   "metadata": {},
   "outputs": [],
   "source": []
  },
  {
   "cell_type": "code",
   "execution_count": null,
   "id": "overall-rings",
   "metadata": {},
   "outputs": [],
   "source": []
  }
 ],
 "metadata": {
  "kernelspec": {
   "display_name": "Python 3",
   "language": "python",
   "name": "python3"
  },
  "language_info": {
   "codemirror_mode": {
    "name": "ipython",
    "version": 3
   },
   "file_extension": ".py",
   "mimetype": "text/x-python",
   "name": "python",
   "nbconvert_exporter": "python",
   "pygments_lexer": "ipython3",
   "version": "3.7.1"
  }
 },
 "nbformat": 4,
 "nbformat_minor": 5
}
